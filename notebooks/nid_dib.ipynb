{
 "cells": [
  {
   "cell_type": "code",
   "execution_count": 1,
   "id": "allied-cattle",
   "metadata": {},
   "outputs": [],
   "source": [
    "import geopandas as gpd\n",
    "import matplotlib\n",
    "import matplotlib.pyplot as plt\n",
    "import pickle\n",
    "import pygeohydro as gh\n",
    "import shutil\n",
    "from matplotlib.font_manager import fontManager\n",
    "from tqdm.auto import tqdm"
   ]
  },
  {
   "cell_type": "markdown",
   "id": "enabling-yorkshire",
   "metadata": {},
   "source": [
    "Get the data from the [National Inventory of Dams](https://nid.sec.usace.army.mil) using [PyGeoHydro](https://github.com/cheginit/pygeohydro) package."
   ]
  },
  {
   "cell_type": "code",
   "execution_count": 2,
   "id": "improved-imagination",
   "metadata": {},
   "outputs": [],
   "source": [
    "try:\n",
    "    with open(\"input_data/nid.pkl\", \"rb\") as f:\n",
    "        nid = pickle.load(f)\n",
    "except FileNotFoundError:\n",
    "    nid = gh.get_nid()"
   ]
  },
  {
   "cell_type": "markdown",
   "id": "democratic-variation",
   "metadata": {},
   "source": [
    "Filter the data to only include dams that are within Contiguous US."
   ]
  },
  {
   "cell_type": "code",
   "execution_count": 3,
   "id": "aggregate-outdoors",
   "metadata": {},
   "outputs": [],
   "source": [
    "world = gpd.read_file(gpd.datasets.get_path(\"naturalearth_lowres\"))\n",
    "conus = world[world.name == \"United States of America\"].geometry.iloc[0][0]\n",
    "conus = gpd.GeoDataFrame({\"FID\": [0], \"geometry\": conus}, crs=world.crs)\n",
    "nid_conus = nid[nid.within(conus.geometry.unary_union)]"
   ]
  },
  {
   "cell_type": "markdown",
   "id": "vocational-expert",
   "metadata": {},
   "source": [
    "Plot the frames."
   ]
  },
  {
   "cell_type": "code",
   "execution_count": 4,
   "id": "considerable-concrete",
   "metadata": {},
   "outputs": [
    {
     "data": {
      "application/vnd.jupyter.widget-view+json": {
       "model_id": "07b6e8ac96fe42ac837235ab7cbccf01",
       "version_major": 2,
       "version_minor": 0
      },
      "text/plain": [
       "Plotting:   0%|          | 0/378 [00:00<?, ?it/s]"
      ]
     },
     "metadata": {},
     "output_type": "display_data"
    }
   ],
   "source": [
    "column = \"DAM_HEIGHT\"\n",
    "cmap = \"viridis\"\n",
    "min_q, max_q = 0.1, 0.9\n",
    "\n",
    "label = f\"{column.replace('_', ' ').title()} ({nid.attrs[column].split(',', 1)[0][1:].lower()})\"\n",
    "label = \"\\n\".join([label, f\"{min_q} - {max_q} Quantile\"])\n",
    "norm = plt.Normalize(vmin=nid_conus[column].quantile(min_q), vmax=nid_conus[column].quantile(max_q))\n",
    "\n",
    "dpi = 250.0\n",
    "figsize = (1920.0/dpi, 1080.0/dpi)\n",
    "font = 'Lato'\n",
    "indent = \"\\n        \"\n",
    "if font in set([f.name for f in fontManager.ttflist]):\n",
    "    matplotlib.rcParams['font.sans-serif'] = font\n",
    "    matplotlib.rcParams['font.family'] = \"sans-serif\"\n",
    "plt.ioff()\n",
    "\n",
    "def get_ax():\n",
    "    ax = conus.plot(figsize=figsize, facecolor=\"none\", edgecolor=\"k\")\n",
    "    ax.axis(False)\n",
    "    fig = ax.figure\n",
    "    fig.set_dpi(dpi)\n",
    "    cax = fig.add_axes(\n",
    "        [\n",
    "            ax.get_position().x1 + 0.01,\n",
    "            ax.get_position().y0,\n",
    "            0.02,\n",
    "            ax.get_position().height,\n",
    "        ]\n",
    "    )\n",
    "    sm = plt.cm.ScalarMappable(cmap=cmap, norm=norm)\n",
    "    fig.colorbar(sm, cax=cax, label=label)\n",
    "    return ax\n",
    "    \n",
    "years = range(nid_conus.YEAR_COMPLETED.min() + 1, nid_conus.YEAR_COMPLETED.max() + 1)\n",
    "with tqdm(total=len(years), desc=\"Plotting\") as pbar:\n",
    "    for year in years:\n",
    "        pbar.set_postfix_str(f\"Year: {year}\")\n",
    "        dams = nid_conus[nid_conus.YEAR_COMPLETED <= year]\n",
    "        ax = get_ax()\n",
    "        dams.plot(\n",
    "            ax=ax,\n",
    "            column=column,\n",
    "            cmap=cmap,\n",
    "            norm=norm,\n",
    "            alpha=0.3,\n",
    "            markersize=3,\n",
    "        )\n",
    "        ax.set_title(f\"Dams Completed Up to {year}\\nTotal = {len(dams):,}\")\n",
    "        h_max = dams[column].max()\n",
    "        name_max = dams.iloc[dams[column].argmax()].DAM_NAME.title()\n",
    "        ax.annotate(\n",
    "            f\"Largest Dam:{indent}Height: {h_max:.1f} ft{indent}Name: {name_max}\", xy=(0, 0), xycoords=ax.transAxes\n",
    "        )\n",
    "        ax.figure.savefig(f\"tmp/{year}.png\", bbox_inches=\"tight\", dpi=dpi, facecolor=\"w\")\n",
    "        plt.close(\"all\")\n",
    "        pbar.update(1)"
   ]
  },
  {
   "cell_type": "markdown",
   "id": "incident-testament",
   "metadata": {},
   "source": [
    "Repeat the last frame 100 times."
   ]
  },
  {
   "cell_type": "code",
   "execution_count": 5,
   "id": "twenty-album",
   "metadata": {},
   "outputs": [],
   "source": [
    "for i in range(1, 100):\n",
    "    shutil.copy(f\"tmp/{years[-1]}.png\", f\"tmp/{years[-1] + i}.png\")"
   ]
  },
  {
   "cell_type": "markdown",
   "id": "grand-functionality",
   "metadata": {},
   "source": [
    "Convert the frames to a video file."
   ]
  },
  {
   "cell_type": "code",
   "execution_count": 6,
   "id": "hollywood-trainer",
   "metadata": {},
   "outputs": [],
   "source": [
    "!ffmpeg -hide_banner -loglevel panic -start_number 1641 -i tmp/%04d.png -pix_fmt yuv420p -vf scale=1920:-2 -y input_data/NID_2019.mp4"
   ]
  }
 ],
 "metadata": {
  "kernelspec": {
   "display_name": "Python 3",
   "language": "python",
   "name": "python3"
  },
  "language_info": {
   "codemirror_mode": {
    "name": "ipython",
    "version": 3
   },
   "file_extension": ".py",
   "mimetype": "text/x-python",
   "name": "python",
   "nbconvert_exporter": "python",
   "pygments_lexer": "ipython3",
   "version": "3.8.8"
  }
 },
 "nbformat": 4,
 "nbformat_minor": 5
}

{
 "cells": [
  {
   "cell_type": "markdown",
   "metadata": {
    "cell_marker": "\"\"\""
   },
   "source": [
    "# Topographic Data"
   ]
  },
  {
   "cell_type": "code",
   "execution_count": 1,
   "metadata": {
    "execution": {
     "iopub.execute_input": "2021-06-27T23:12:13.627334Z",
     "iopub.status.busy": "2021-06-27T23:12:13.626879Z",
     "iopub.status.idle": "2021-06-27T23:12:15.385483Z",
     "shell.execute_reply": "2021-06-27T23:12:15.385037Z"
    }
   },
   "outputs": [],
   "source": [
    "import matplotlib.pyplot as plt\n",
    "import networkx as nx\n",
    "import numpy as np\n",
    "import osmnx as ox\n",
    "import py3dep\n",
    "import pydaymet as daymet\n",
    "import xarray as xr\n",
    "from pynhd import NLDI"
   ]
  },
  {
   "cell_type": "markdown",
   "metadata": {},
   "source": [
    "Py3DEP provides access to the [3DEP](https://www.usgs.gov/core-science-systems/ngp/3dep) database which is a part of the [National Map services](https://viewer.nationalmap.gov/services). The 3DEP service has multi-resolution sources and depending on the user provided resolution, the data is resampled on the server-side based on all the available data sources. Py3DEP returns the requests as xarray dataset. The 3DEP includes the following layers:\n",
    "\n",
    "- DEM\n",
    "- Hillshade Gray\n",
    "- Aspect Degrees\n",
    "- Aspect Map\n",
    "- GreyHillshade Elevation Fill\n",
    "- Hillshade Multidirectional\n",
    "- Slope Map\n",
    "- Slope Degrees\n",
    "- Hillshade Elevation Tinted\n",
    "- Height Ellipsoidal\n",
    "- Contour 25\n",
    "- Contour Smoothed 25\n",
    "\n",
    "Moreover, Py3DEP offers some additional utilities:\n",
    "\n",
    "- ``elevation_bygrid``: For getting elevations of all the grid points in a 2D grid.\n",
    "- ``elevation_byloc``: For getting elevation of a single point which is based on the National Map's Elevation Point Query Service.\n",
    "- ``deg2mpm``: For converting slope dataset from degree to meter per meter.\n",
    "\n",
    "Let's get a watershed geometry using NLDI and then get DEM and slope."
   ]
  },
  {
   "cell_type": "code",
   "execution_count": 2,
   "metadata": {
    "execution": {
     "iopub.execute_input": "2021-06-27T23:12:15.391024Z",
     "iopub.status.busy": "2021-06-27T23:12:15.390678Z",
     "iopub.status.idle": "2021-06-27T23:12:16.623646Z",
     "shell.execute_reply": "2021-06-27T23:12:16.623308Z"
    }
   },
   "outputs": [],
   "source": [
    "geometry = NLDI().get_basins(\"11092450\").geometry[0]"
   ]
  },
  {
   "cell_type": "code",
   "execution_count": 3,
   "metadata": {
    "execution": {
     "iopub.execute_input": "2021-06-27T23:12:16.626800Z",
     "iopub.status.busy": "2021-06-27T23:12:16.626418Z",
     "iopub.status.idle": "2021-06-27T23:12:16.770761Z",
     "shell.execute_reply": "2021-06-27T23:12:16.770100Z"
    }
   },
   "outputs": [
    {
     "ename": "AttributeError",
     "evalue": "module 'pygeoutils.pygeoutils' has no attribute '_geo2polygon'",
     "output_type": "error",
     "traceback": [
      "\u001b[0;31m---------------------------------------------------------------------------\u001b[0m",
      "\u001b[0;31mAttributeError\u001b[0m                            Traceback (most recent call last)",
      "\u001b[0;32m<ipython-input-3-672692e8a29d>\u001b[0m in \u001b[0;36m<module>\u001b[0;34m\u001b[0m\n\u001b[0;32m----> 1\u001b[0;31m \u001b[0mdem\u001b[0m \u001b[0;34m=\u001b[0m \u001b[0mpy3dep\u001b[0m\u001b[0;34m.\u001b[0m\u001b[0mget_map\u001b[0m\u001b[0;34m(\u001b[0m\u001b[0;34m\"DEM\"\u001b[0m\u001b[0;34m,\u001b[0m \u001b[0mgeometry\u001b[0m\u001b[0;34m,\u001b[0m \u001b[0mresolution\u001b[0m\u001b[0;34m=\u001b[0m\u001b[0;36m90\u001b[0m\u001b[0;34m,\u001b[0m \u001b[0mgeo_crs\u001b[0m\u001b[0;34m=\u001b[0m\u001b[0;34m\"epsg:4326\"\u001b[0m\u001b[0;34m,\u001b[0m \u001b[0mcrs\u001b[0m\u001b[0;34m=\u001b[0m\u001b[0;34m\"epsg:3857\"\u001b[0m\u001b[0;34m)\u001b[0m\u001b[0;34m\u001b[0m\u001b[0;34m\u001b[0m\u001b[0m\n\u001b[0m\u001b[1;32m      2\u001b[0m \u001b[0mdem\u001b[0m\u001b[0;34m.\u001b[0m\u001b[0mname\u001b[0m \u001b[0;34m=\u001b[0m \u001b[0;34m\"dem\"\u001b[0m\u001b[0;34m\u001b[0m\u001b[0;34m\u001b[0m\u001b[0m\n\u001b[1;32m      3\u001b[0m \u001b[0mdem\u001b[0m\u001b[0;34m.\u001b[0m\u001b[0mattrs\u001b[0m\u001b[0;34m[\u001b[0m\u001b[0;34m\"units\"\u001b[0m\u001b[0;34m]\u001b[0m \u001b[0;34m=\u001b[0m \u001b[0;34m\"meters\"\u001b[0m\u001b[0;34m\u001b[0m\u001b[0;34m\u001b[0m\u001b[0m\n\u001b[1;32m      4\u001b[0m \u001b[0mslope\u001b[0m \u001b[0;34m=\u001b[0m \u001b[0mpy3dep\u001b[0m\u001b[0;34m.\u001b[0m\u001b[0mget_map\u001b[0m\u001b[0;34m(\u001b[0m\u001b[0;34m\"Slope Degrees\"\u001b[0m\u001b[0;34m,\u001b[0m \u001b[0mgeometry\u001b[0m\u001b[0;34m,\u001b[0m \u001b[0mresolution\u001b[0m\u001b[0;34m=\u001b[0m\u001b[0;36m30\u001b[0m\u001b[0;34m)\u001b[0m\u001b[0;34m\u001b[0m\u001b[0;34m\u001b[0m\u001b[0m\n\u001b[1;32m      5\u001b[0m \u001b[0mslope\u001b[0m \u001b[0;34m=\u001b[0m \u001b[0mpy3dep\u001b[0m\u001b[0;34m.\u001b[0m\u001b[0mdeg2mpm\u001b[0m\u001b[0;34m(\u001b[0m\u001b[0mslope\u001b[0m\u001b[0;34m)\u001b[0m\u001b[0;34m\u001b[0m\u001b[0;34m\u001b[0m\u001b[0m\n",
      "\u001b[0;32m~/.local/apps/mambaforge/envs/hyriver-dev/lib/python3.9/site-packages/py3dep/py3dep.py\u001b[0m in \u001b[0;36mget_map\u001b[0;34m(layers, geometry, resolution, geo_crs, crs)\u001b[0m\n\u001b[1;32m     70\u001b[0m         \u001b[0;32mraise\u001b[0m \u001b[0mInvalidInputType\u001b[0m\u001b[0;34m(\u001b[0m\u001b[0;34m\"geometry\"\u001b[0m\u001b[0;34m,\u001b[0m \u001b[0;34m\"Polygon or tuple of length 4\"\u001b[0m\u001b[0;34m)\u001b[0m\u001b[0;34m\u001b[0m\u001b[0;34m\u001b[0m\u001b[0m\n\u001b[1;32m     71\u001b[0m \u001b[0;34m\u001b[0m\u001b[0m\n\u001b[0;32m---> 72\u001b[0;31m     \u001b[0m_geometry\u001b[0m \u001b[0;34m=\u001b[0m \u001b[0mgeoutils\u001b[0m\u001b[0;34m.\u001b[0m\u001b[0mpygeoutils\u001b[0m\u001b[0;34m.\u001b[0m\u001b[0m_geo2polygon\u001b[0m\u001b[0;34m(\u001b[0m\u001b[0mgeometry\u001b[0m\u001b[0;34m,\u001b[0m \u001b[0mgeo_crs\u001b[0m\u001b[0;34m,\u001b[0m \u001b[0mcrs\u001b[0m\u001b[0;34m)\u001b[0m\u001b[0;34m\u001b[0m\u001b[0;34m\u001b[0m\u001b[0m\n\u001b[0m\u001b[1;32m     73\u001b[0m \u001b[0;34m\u001b[0m\u001b[0m\n\u001b[1;32m     74\u001b[0m     \u001b[0m_layers\u001b[0m \u001b[0;34m=\u001b[0m \u001b[0mlayers\u001b[0m \u001b[0;32mif\u001b[0m \u001b[0misinstance\u001b[0m\u001b[0;34m(\u001b[0m\u001b[0mlayers\u001b[0m\u001b[0;34m,\u001b[0m \u001b[0mlist\u001b[0m\u001b[0;34m)\u001b[0m \u001b[0;32melse\u001b[0m \u001b[0;34m[\u001b[0m\u001b[0mlayers\u001b[0m\u001b[0;34m]\u001b[0m\u001b[0;34m\u001b[0m\u001b[0;34m\u001b[0m\u001b[0m\n",
      "\u001b[0;31mAttributeError\u001b[0m: module 'pygeoutils.pygeoutils' has no attribute '_geo2polygon'"
     ]
    }
   ],
   "source": [
    "dem = py3dep.get_map(\"DEM\", geometry, resolution=90, geo_crs=\"epsg:4326\", crs=\"epsg:3857\")\n",
    "dem.name = \"dem\"\n",
    "dem.attrs[\"units\"] = \"meters\"\n",
    "slope = py3dep.get_map(\"Slope Degrees\", geometry, resolution=30)\n",
    "slope = py3dep.deg2mpm(slope)"
   ]
  },
  {
   "cell_type": "code",
   "execution_count": 5,
   "metadata": {
    "tags": [
     "nbsphinx-thumbnail"
    ]
   },
   "outputs": [],
   "source": [
    "fig, (ax1, ax2) = plt.subplots(nrows=1, ncols=2, figsize=(15, 5))\n",
    "dem.plot(ax=ax1)\n",
    "slope.plot(ax=ax2)\n",
    "fig.savefig(\"_static/dem_slope.png\", bbox_inches=\"tight\", facecolor=\"w\")"
   ]
  },
  {
   "cell_type": "markdown",
   "metadata": {},
   "source": [
    "We can also get elevations of a list of coordinates using `py3dep.elevation_bycoords` function. This function is particularly useful for getting elevations of nodes of a network, for example, is a river or a street network. Let's use [osmnx](https://github.com/gboeing/osmnx) package to get a street network:"
   ]
  },
  {
   "cell_type": "code",
   "execution_count": 6,
   "metadata": {},
   "outputs": [],
   "source": [
    "G = ox.graph_from_place(\"Piedmont, California, USA\", network_type=\"drive\")"
   ]
  },
  {
   "cell_type": "markdown",
   "metadata": {},
   "source": [
    "Now, we can get the elevations for each node based on their coordinates and then plot the results."
   ]
  },
  {
   "cell_type": "code",
   "execution_count": 7,
   "metadata": {},
   "outputs": [],
   "source": [
    "x, y = nx.get_node_attributes(G, \"x\").values(), nx.get_node_attributes(G, \"y\").values()\n",
    "elevation = py3dep.elevation_bycoords(list(zip(x, y)), crs=\"epsg:4326\")\n",
    "nx.set_node_attributes(G, dict(zip(G.nodes(), elevation)), \"elevation\")"
   ]
  },
  {
   "cell_type": "code",
   "execution_count": 8,
   "metadata": {},
   "outputs": [],
   "source": [
    "nc = ox.plot.get_node_colors_by_attr(G, \"elevation\", cmap=\"terrain\")\n",
    "fig, ax = ox.plot_graph(\n",
    "    G,\n",
    "    node_color=nc,\n",
    "    node_size=10,\n",
    "    save=True,\n",
    "    bgcolor=\"w\",\n",
    "    filepath=\"_static/street_elev.png\",\n",
    "    dpi=100,\n",
    ")"
   ]
  },
  {
   "cell_type": "markdown",
   "metadata": {},
   "source": [
    "Note that, this function gets the elevation data from the elevation map of the bounding box of all the coordinates. So, if the larger the extent of this bounding box, the longer is going to take for the function to get the data."
   ]
  },
  {
   "cell_type": "markdown",
   "metadata": {},
   "source": [
    "Additionally, we can get the elevations of set of x- and y- coordinates of a grid. For example,\n",
    "let's get the minimum temperature data within the watershed from Daymet using [PyDaymet](https://github.com/cheginit/pydaymet) then add the elevation as a new variable to the dataset:"
   ]
  },
  {
   "cell_type": "code",
   "execution_count": 9,
   "metadata": {},
   "outputs": [],
   "source": [
    "clm = daymet.get_bygeom(geometry, (\"2005-01-01\", \"2005-01-31\"), variables=\"tmin\")\n",
    "elev = py3dep.elevation_bygrid(clm.x.values, clm.y.values, clm.crs, clm.res[0] * 1000)\n",
    "attrs = clm.attrs\n",
    "clm = xr.merge([clm, elev])\n",
    "clm[\"elevation\"] = clm.elevation.where(~np.isnan(clm.isel(time=0).tmin), drop=True).T\n",
    "clm.attrs.update(attrs)"
   ]
  },
  {
   "cell_type": "code",
   "execution_count": 10,
   "metadata": {
    "tags": []
   },
   "outputs": [],
   "source": [
    "fig, (ax1, ax2) = plt.subplots(nrows=1, ncols=2, figsize=(15, 5))\n",
    "clm.tmin.isel(time=10).plot(ax=ax1)\n",
    "clm.elevation.plot(ax=ax2)"
   ]
  }
 ],
 "metadata": {
  "kernelspec": {
   "display_name": "Python 3",
   "language": "python",
   "name": "python3"
  },
  "language_info": {
   "codemirror_mode": {
    "name": "ipython",
    "version": 3
   },
   "file_extension": ".py",
   "mimetype": "text/x-python",
   "name": "python",
   "nbconvert_exporter": "python",
   "pygments_lexer": "ipython3",
   "version": "3.9.5"
  }
 },
 "nbformat": 4,
 "nbformat_minor": 4
}

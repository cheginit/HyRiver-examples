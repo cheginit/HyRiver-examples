{
 "cells": [
  {
   "cell_type": "markdown",
   "metadata": {},
   "source": [
    "# High Water Marks from USGS STN\n",
    "The United States Geological Survey (USGS) maintains a database of flood event data known as [Short-Term Network (STN)](https://stn.wim.usgs.gov/stnweb/#/). This database has a convenient [web front-end](https://stn.wim.usgs.gov/FEV/) and also a [RESTFul API](). This notebook will review some of the capabilities available specifically for high water marks (HWMs) including retrieving data dictionaries, retrieving all available data by type, and making filtered queries. Some of the limitations and errors in the data are highlighted here as well."
   ]
  },
  {
   "cell_type": "code",
   "execution_count": null,
   "metadata": {},
   "outputs": [],
   "source": [
    "import pandas as pd\n",
    "import matplotlib.pyplot as plt\n",
    "import matplotlib.markers as mmarkers\n",
    "import matplotlib.lines as mlines\n",
    "\n",
    "from pygeohydro.helpers import get_us_states\n",
    "from pygeohydro import STNFloodEventData"
   ]
  },
  {
   "cell_type": "markdown",
   "metadata": {},
   "source": [
    "After importing, we can start with how we can obtain all of the HWM data available in the database as a GeoDataFrame."
   ]
  },
  {
   "cell_type": "code",
   "execution_count": null,
   "metadata": {},
   "outputs": [],
   "source": [
    "hwm_all = STNFloodEventData.get_all_data(\"hwms\", as_list=False, async_retriever_kwargs={\"disable\": True, \"max_workers\": 6})\n",
    "hwm_all.head()"
   ]
  },
  {
   "cell_type": "code",
   "execution_count": null,
   "metadata": {},
   "outputs": [],
   "source": [
    "print(\"There are {} HWMs in the database.\".format(len(hwm_all)))"
   ]
  },
  {
   "cell_type": "markdown",
   "metadata": {},
   "source": [
    "For an interactive map, we can use the explore method with all of the HWM data. There are at least 34,000 HWMs in the STN database scattered throughout the country. It's important to note the possibility of outliers as this data is collected by people and liable to errors."
   ]
  },
  {
   "cell_type": "code",
   "execution_count": null,
   "metadata": {},
   "outputs": [],
   "source": [
    "hwm_all.explore(\n",
    "    marker_kwds={\"radius\": 2},\n",
    "    style_kwds={\"stroke\": False},\n",
    ")"
   ]
  },
  {
   "cell_type": "markdown",
   "metadata": {},
   "source": [
    "Next, we illustrate how a filtered query can be completed with the same HWM data. First we want to present what parameters are available to query. We can use the `STNFloodEventData.hwms_query_params` attribute for that."
   ]
  },
  {
   "cell_type": "code",
   "execution_count": null,
   "metadata": {},
   "outputs": [],
   "source": [
    "STNFloodEventData.hwms_query_params"
   ]
  },
  {
   "cell_type": "code",
   "execution_count": null,
   "metadata": {},
   "outputs": [],
   "source": [
    "hwm_filtered = STNFloodEventData.get_filtered_data(\n",
    "    \"hwms\", crs=\"ESRI:102003\", async_retriever_kwargs={\"disable\" : True}, query_params={\"States\" : \"SC,NC\"}\n",
    ")\n",
    "hwm_filtered.head()"
   ]
  },
  {
   "cell_type": "markdown",
   "metadata": {},
   "source": [
    "The first step involves retrieving the data dictionary for HWMs. We can use the `as_dict` argument to return the data as a dictionary but will prefer the default Pandas DataFrame for this example. We can also pass keyword arguments to the async retriever as shown here where the caching is disabled."
   ]
  },
  {
   "cell_type": "code",
   "execution_count": null,
   "metadata": {},
   "outputs": [],
   "source": [
    "hwm_dd = STNFloodEventData.data_dictionary(\"hwms\", as_dict=False, async_retriever_kwargs={\"disable\": True})\n",
    "hwm_dd.head()"
   ]
  },
  {
   "cell_type": "markdown",
   "metadata": {},
   "source": [
    "It's important to note that the schemas for the three requests: all data, filtered data, and data dictionaries don't necessarily agree. "
   ]
  },
  {
   "cell_type": "code",
   "execution_count": null,
   "metadata": {},
   "outputs": [],
   "source": [
    "# compares the columns \n",
    "print(f\"Do the columns have the same length?: {set(hwm_all.columns) == set(hwm_filtered.columns) == set(hwm_dd.columns)}\")\n",
    "\n",
    "# compare columns\n",
    "pd.concat([\n",
    "    pd.Series(hwm_all.columns, name=\"All HWM Fields\"),\n",
    "    pd.Series(hwm_filtered.columns, name=\"Filtered HWM Fields\"),\n",
    "    pd.Series(hwm_dd[\"Field\"], name=\"HWM Data Dictionary Fields\")\n",
    "], axis=1)"
   ]
  },
  {
   "cell_type": "markdown",
   "metadata": {},
   "source": [
    "While many of the differences can be inferred, some of the discrepancies could lead to columns with ambiguous information. The USGS is working on an updated RESTFul API that should address this. These differences are available for the other data types, \"instruments\", \"peaks\", and \"sites\", as well."
   ]
  },
  {
   "cell_type": "markdown",
   "metadata": {},
   "source": [
    "Now we will plot some of the HWMs. First we retrieve some state lines and project those as well as the filtered HWMs to EPSG:4329 CRS."
   ]
  },
  {
   "cell_type": "code",
   "execution_count": null,
   "metadata": {},
   "outputs": [],
   "source": [
    "carolina_lines = get_us_states([\"NC\", \"SC\"]).to_crs(\"EPSG:4329\")\n",
    "hwm_filtered = hwm_filtered.to_crs(\"EPSG:4329\")"
   ]
  },
  {
   "cell_type": "code",
   "execution_count": null,
   "metadata": {},
   "outputs": [],
   "source": [
    "fig, ax = plt.subplots(figsize=(6, 4), dpi=200)\n",
    "\n",
    "event_names = hwm_filtered.loc[:,'eventName'].unique()\n",
    "markers = dict(zip(event_names, mmarkers.MarkerStyle.filled_markers[:len(event_names)]))\n",
    "\n",
    "ax.set_title(\"HWMs - Height Above Ground (ft)\", fontsize=9)\n",
    "ax.set_xlabel(\"Longitude (deg)\", fontsize=8)\n",
    "ax.set_ylabel(\"Latitude (deg)\", fontsize=8)\n",
    "\n",
    "ax.tick_params(axis='both', which='major', labelsize=8)\n",
    "\n",
    "vmin, vmax = hwm_filtered.loc[:,'height_above_gnd'].min(), hwm_filtered.loc[:,'height_above_gnd'].max()\n",
    "\n",
    "legend = True\n",
    "for i, (event_name, data) in enumerate(hwm_filtered.groupby('eventName')):\n",
    "    \n",
    "    if i > 0:\n",
    "        legend=False\n",
    "    \n",
    "    data.plot(\n",
    "        ax = ax,\n",
    "        column=\"height_above_gnd\",\n",
    "        alpha=0.7,\n",
    "        legend=legend,\n",
    "        markersize=3,\n",
    "        marker=markers[event_name],\n",
    "        vmin=0,\n",
    "        vmax=10,\n",
    "    )\n",
    "\n",
    "# Create a list of Line2D objects to use for the legend\n",
    "legend_elements = [mlines.Line2D([0], [0], color='black', marker=markers[event_name], linestyle='None') for event_name in event_names]\n",
    "\n",
    "# Add the legend to the plot\n",
    "ax.legend(legend_elements, event_names, loc='lower right', title='Event Names', bbox_to_anchor=(1, 0), prop={'size': 5})\n",
    "\n",
    "colorbar = plt.gcf().get_axes()[-1]\n",
    "colorbar.tick_params(labelsize=8)\n",
    "\n",
    "carolina_lines.plot(ax=ax, facecolor=\"none\", edgecolor=\"black\", linewidth=0.2)\n",
    "\n",
    "plt.show()"
   ]
  },
  {
   "cell_type": "markdown",
   "metadata": {},
   "source": [
    "### Data Quality Issues\n",
    "\n",
    "Inspecting the figure above reveals a HWM in the Atlantic Ocean. Trying to pick that one out, we get the following information about the outlier. We only display a few of the fields that may contain the problem."
   ]
  },
  {
   "cell_type": "code",
   "execution_count": null,
   "metadata": {},
   "outputs": [],
   "source": [
    "outlier = hwm_filtered.loc[hwm_filtered.latitude < 31,:].squeeze()\n",
    "print(\n",
    "    outlier.loc[\n",
    "        [\n",
    "            \"siteDescription\",\n",
    "            \"waterbody\",\n",
    "            \"stateName\",\n",
    "            \"countyName\",\n",
    "            \"latitude_dd\",\n",
    "            \"longitude_dd\",\n",
    "            \"site_latitude\",\n",
    "            \"site_longitude\",\n",
    "            \"height_above_gnd\"\n",
    "        ]\n",
    "    ]\n",
    ")"
   ]
  },
  {
   "cell_type": "markdown",
   "metadata": {},
   "source": [
    "Inspecting the fields above reveals that this potential outlier should be in Georgetown County which is on the coast of South Carolina just south of Myrtle Beach. Additionally, the fields show two different entries for latitude and longitudes. We look at the definitions for latitudes below."
   ]
  },
  {
   "cell_type": "code",
   "execution_count": null,
   "metadata": {},
   "outputs": [],
   "source": [
    "print(f\"'site_latitude' : {hwm_dd.loc[hwm_dd.loc[:,'Field'] == 'site_latitude','Definition'].iloc[0]}\")\n",
    "print(f\"'latitude_dd' : {hwm_dd.loc[hwm_dd.loc[:,'Field'] == 'latitude_dd','Definition'].iloc[0]}\")"
   ]
  },
  {
   "cell_type": "markdown",
   "metadata": {},
   "source": [
    "From this, we can say that the 'site_latitude' field reveals horizontal locations of the common water surface while the 'latitude_dd' field refers to that of the HWM. This distinction indicates why these two fields are expected to differ. Nevertheless, the location of the HWM all but impossibly collected so far from the Pee Dee and Waccamaw Rivers. It's likely that this was a typo. It's important to note that this service is fed by data by real people who are liable to make simple mistakes. It's advised to take a look at your data and inspect for any inconsistencies prior to using for analysis."
   ]
  }
 ],
 "metadata": {
  "kernelspec": {
   "display_name": "Python 3",
   "language": "python",
   "name": "python3"
  },
  "language_info": {
   "codemirror_mode": {
    "name": "ipython",
    "version": 3
   },
   "file_extension": ".py",
   "mimetype": "text/x-python",
   "name": "python",
   "nbconvert_exporter": "python",
   "pygments_lexer": "ipython3",
   "version": "3.11.4"
  },
  "orig_nbformat": 4
 },
 "nbformat": 4,
 "nbformat_minor": 2
}

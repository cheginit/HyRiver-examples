{
 "cells": [
  {
   "cell_type": "markdown",
   "metadata": {},
   "source": [
    "# GeoConnex"
   ]
  },
  {
   "cell_type": "code",
   "execution_count": null,
   "metadata": {},
   "outputs": [],
   "source": [
    "from pathlib import Path\n",
    "\n",
    "import geopandas as gpd\n",
    "import pandas as pd\n",
    "\n",
    "import pynhd\n",
    "from pynhd import GeoConnex"
   ]
  },
  {
   "cell_type": "markdown",
   "metadata": {},
   "source": [
    "[GeoConnex](https://geoconnex.internetofwater.dev/) is a web service developed by [Internet Of Water](https://internetofwater.org/) that provides access to many hydro-linked datasets. PyNHD provides access to all GeoConnex endpoints.\n",
    "\n",
    "For single queries it's recommended to use the `pynhd.geoconnex` function and for multiple queries, it's more efficient to directly use the underlying `pynhd.GeoConnex` class that the `pynhd.geoconnex` function calls under-the-hood.\n",
    "\n",
    "Let's start by the `geoconnex` function. If you run the function without any arguments, it will print out a list of available endpoints. Moreover, if you run the function with `item` but no `query`, it will print out the description, queryable fields, and extent of the selected endpoint (``item``)."
   ]
  },
  {
   "cell_type": "code",
   "execution_count": null,
   "metadata": {},
   "outputs": [],
   "source": [
    "pynhd.geoconnex()"
   ]
  },
  {
   "cell_type": "markdown",
   "metadata": {},
   "source": [
    "For example, let's select the `hu02` item and find all its queryable fields."
   ]
  },
  {
   "cell_type": "code",
   "execution_count": null,
   "metadata": {},
   "outputs": [],
   "source": [
    "pynhd.geoconnex(\"hu02\")"
   ]
  },
  {
   "cell_type": "markdown",
   "metadata": {},
   "source": [
    "Now that we know all the queryable fields of `hu02`, we can decide what's the best way to pull our desired data. For example, let's get the data for \"HUC02\" using `HUC2` field."
   ]
  },
  {
   "cell_type": "code",
   "execution_count": null,
   "metadata": {
    "tags": []
   },
   "outputs": [],
   "source": [
    "huc2 = pynhd.geoconnex(item=\"hu02\", query={\"HUC2\": \"02\"})\n",
    "ax = huc2.plot(figsize=(6, 6))\n",
    "ax.set_axis_off()"
   ]
  },
  {
   "cell_type": "markdown",
   "metadata": {},
   "source": [
    "GeoConnex, also supports spatial query. At the moment, it only accepts requesting features within a bounding box. For example, let's get all the stations within HUC02 that we previously retrieved."
   ]
  },
  {
   "cell_type": "code",
   "execution_count": null,
   "metadata": {},
   "outputs": [],
   "source": [
    "gages = pynhd.geoconnex(item=\"gages\", query={\"geometry\": huc2.geometry.iloc[0]})"
   ]
  },
  {
   "cell_type": "code",
   "execution_count": null,
   "metadata": {
    "tags": [
     "nbsphinx-thumbnail"
    ]
   },
   "outputs": [],
   "source": [
    "ax = huc2.plot(facecolor=\"none\", edgecolor=\"black\", figsize=(6, 6))\n",
    "gages.plot(ax=ax, color=\"red\", marker=\"*\")\n",
    "ax.set_axis_off()\n",
    "ax.figure.savefig(Path(\"_static\", \"geoconnex.png\"), dpi=300, bbox_inches=\"tight\", facecolor=\"w\")"
   ]
  },
  {
   "cell_type": "markdown",
   "metadata": {},
   "source": [
    "Next, we want to retrieve the available data for a couple of USGS stations using the `GeoConnex` class."
   ]
  },
  {
   "cell_type": "code",
   "execution_count": null,
   "metadata": {},
   "outputs": [],
   "source": [
    "gcx = GeoConnex()\n",
    "gcx.item = \"gages\"  # instead we can instantiate the class like so GeoConnex(\"gages\")\n",
    "station_ids = [\"01031450\", \"01031500\", \"01031510\"]\n",
    "gages = gpd.GeoDataFrame(\n",
    "    pd.concat((gcx.query({\"provider_id\": sid}) for sid in station_ids), ignore_index=True),\n",
    "    crs=\"epsg:4326\",\n",
    ")\n",
    "gages"
   ]
  },
  {
   "cell_type": "markdown",
   "metadata": {},
   "source": [
    "Let's make a bit more advanced spatial query. Assume that we want to get all the stations within a 5-km radius of each the stations that we obtained above. First, we need to buffer the points by 5 km to create a multipolygon. Then we pass it as a query to `geoconnex`."
   ]
  },
  {
   "cell_type": "code",
   "execution_count": null,
   "metadata": {},
   "outputs": [],
   "source": [
    "buff = gages.to_crs(5070).buffer(5e3).to_crs(4326)\n",
    "gages = pynhd.geoconnex(item=\"gages\", query={\"geometry\": buff.unary_union})"
   ]
  },
  {
   "cell_type": "code",
   "execution_count": null,
   "metadata": {},
   "outputs": [],
   "source": [
    "ax = buff.plot(facecolor=\"none\", edgecolor=\"black\", figsize=(6, 6))\n",
    "gages.plot(ax=ax, color=\"red\", marker=\"*\")\n",
    "ax.set_axis_off()"
   ]
  }
 ],
 "metadata": {
  "interpreter": {
   "hash": "003c82ad5971cfdf345b67bc4c483230f4144cd11e9aff06d93cf3af71d62f25"
  },
  "kernelspec": {
   "display_name": "Python 3 (ipykernel)",
   "language": "python",
   "name": "python3"
  },
  "language_info": {
   "codemirror_mode": {
    "name": "ipython",
    "version": 3
   },
   "file_extension": ".py",
   "mimetype": "text/x-python",
   "name": "python",
   "nbconvert_exporter": "python",
   "pygments_lexer": "ipython3",
   "version": "3.10.5"
  }
 },
 "nbformat": 4,
 "nbformat_minor": 4
}

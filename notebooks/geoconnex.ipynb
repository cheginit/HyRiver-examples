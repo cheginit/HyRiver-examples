{
 "cells": [
  {
   "cell_type": "markdown",
   "metadata": {},
   "source": [
    "# GeoConnex"
   ]
  },
  {
   "cell_type": "code",
   "execution_count": 1,
   "metadata": {},
   "outputs": [],
   "source": [
    "import geopandas as gpd\n",
    "import pandas as pd\n",
    "import pynhd\n",
    "from pynhd import GeoConnex"
   ]
  },
  {
   "cell_type": "markdown",
   "metadata": {},
   "source": [
    "[GeoConnex](https://geoconnex.internetofwater.dev/) is a web service developed by [Internet Of Water](https://internetofwater.org/) that provides access to many hydro-linked datasets. PyNHD provides access to all GeoConnex endpoints.\n",
    "\n",
    "For single queries it's recommended to use the `pynhd.geoconnex` function and for multiple queries, it's more efficient to directly use the underlying `pynhd.GeoConnex` class that the `pynhd.geoconnex` function calls under-the-hood.\n",
    "\n",
    "Let's start by the `geoconnex` function. If you run the function without any arguments, it will print out a list of available endpoints. Moreover, if you run the function with `item` but no `query`, it will print out the description, queryable fields, and extent of the selected endpoint (``item``)."
   ]
  },
  {
   "cell_type": "code",
   "execution_count": 2,
   "metadata": {},
   "outputs": [
    {
     "name": "stdout",
     "output_type": "stream",
     "text": [
      "Available Endpoints:\n",
      "    'hu02': Two-digit Hydrologic Regions\n",
      "    'hu04': Four-digit Hydrologic Subregion\n",
      "    'hu06': Six-digit Hydrologic Basins\n",
      "    'hu08': Eight-digit Hydrologic Subbasins\n",
      "    'hu10': Ten-digit Watersheds\n",
      "    'nat_aq': National Aquifers of the United States from USGS National Water Information System National Aquifer code list.\n",
      "    'principal_aq': Principal Aquifers of the United States from 2003 USGS data release\n",
      "    'sec_hydrg_reg': Secondary Hydrogeologic Regions of the Conterminous United States from 2018 USGS data release\n",
      "    'gages': US Reference Stream Gage Monitoring Locations\n",
      "    'mainstems': US Reference Mainstem Rivers\n",
      "    'states': U.S. States\n",
      "    'counties': U.S. Counties\n",
      "    'aiannh': Native American Lands\n",
      "    'cbsa': U.S. Metropolitan and Micropolitan Statistical Areas\n",
      "    'ua10': Urbanized Areas and Urban Clusters (2010 Census)\n",
      "    'places': U.S. legally incororated and Census designated places\n",
      "    'pws': U.S. Public Water Systems\n"
     ]
    }
   ],
   "source": [
    "pynhd.geoconnex()"
   ]
  },
  {
   "cell_type": "markdown",
   "metadata": {},
   "source": [
    "For example, let's select the `hu02` item and find all its queryable fields."
   ]
  },
  {
   "cell_type": "code",
   "execution_count": 3,
   "metadata": {},
   "outputs": [
    {
     "name": "stdout",
     "output_type": "stream",
     "text": [
      "Item: 'hu02'\n",
      "Description: Two-digit Hydrologic Regions\n",
      "Queryable Fields: geometry, fid, geom, uri, NAME, gnis_url, GNIS_ID, HUC2, LOADDATE\n",
      "Extent: (-170, 15, -51, 72)\n"
     ]
    }
   ],
   "source": [
    "pynhd.geoconnex(\"hu02\")"
   ]
  },
  {
   "cell_type": "markdown",
   "metadata": {},
   "source": [
    "Now that we know all the queryable fields of `hu02`, we can decide what's the best way to pull our desired data. For example, let's get the data for \"HUC02\" using `HUC2` field."
   ]
  },
  {
   "cell_type": "code",
   "execution_count": 4,
   "metadata": {
    "tags": [
     "nbsphinx-thumbnail"
    ]
   },
   "outputs": [
    {
     "data": {
      "text/plain": [
       "<AxesSubplot:>"
      ]
     },
     "execution_count": 4,
     "metadata": {},
     "output_type": "execute_result"
    },
    {
     "data": {
      "image/png": "[encoded data removed]",
      "text/plain": [
       "<Figure size 432x288 with 1 Axes>"
      ]
     },
     "metadata": {
      "needs_background": "light"
     },
     "output_type": "display_data"
    }
   ],
   "source": [
    "huc2 = pynhd.geoconnex(item=\"hu02\", query={\"HUC2\": \"02\"})\n",
    "huc2.plot()"
   ]
  },
  {
   "cell_type": "markdown",
   "metadata": {},
   "source": [
    "Next, we want to retrieve the available data for a couple of USGS stations using the `GeoConnex` class."
   ]
  },
  {
   "cell_type": "code",
   "execution_count": 5,
   "metadata": {},
   "outputs": [
    {
     "data": {
      "text/html": [
       "<div>\n",
       "<style scoped>\n",
       "    .dataframe tbody tr th:only-of-type {\n",
       "        vertical-align: middle;\n",
       "    }\n",
       "\n",
       "    .dataframe tbody tr th {\n",
       "        vertical-align: top;\n",
       "    }\n",
       "\n",
       "    .dataframe thead th {\n",
       "        text-align: right;\n",
       "    }\n",
       "</style>\n",
       "<table border=\"1\" class=\"dataframe\">\n",
       "  <thead>\n",
       "    <tr style=\"text-align: right;\">\n",
       "      <th></th>\n",
       "      <th>geometry</th>\n",
       "      <th>fid</th>\n",
       "      <th>uri</th>\n",
       "      <th>name</th>\n",
       "      <th>description</th>\n",
       "      <th>subjectOf</th>\n",
       "      <th>provider</th>\n",
       "      <th>provider_id</th>\n",
       "      <th>nhdpv2_REACHCODE</th>\n",
       "      <th>nhdpv2_REACH_measure</th>\n",
       "      <th>nhdpv2_COMID</th>\n",
       "      <th>mainstem_uri</th>\n",
       "    </tr>\n",
       "  </thead>\n",
       "  <tbody>\n",
       "    <tr>\n",
       "      <th>0</th>\n",
       "      <td>POINT (-69.45222 45.18444)</td>\n",
       "      <td>58690</td>\n",
       "      <td>https://geoconnex.us/ref/gages/1077762</td>\n",
       "      <td>Kingsbury Stream at Abbot Village, Maine</td>\n",
       "      <td>USGS NWIS Stream/River/Lake Site 01031450: Kin...</td>\n",
       "      <td>https://waterdata.usgs.gov/monitoring-location...</td>\n",
       "      <td>https://waterdata.usgs.gov</td>\n",
       "      <td>01031450</td>\n",
       "      <td>01020004001387</td>\n",
       "      <td>54.241330</td>\n",
       "      <td>1722913.0</td>\n",
       "      <td>https://geoconnex.us/ref/mainstems/2245317</td>\n",
       "    </tr>\n",
       "    <tr>\n",
       "      <th>0</th>\n",
       "      <td>POINT (-69.31472 45.17500)</td>\n",
       "      <td>67663</td>\n",
       "      <td>https://geoconnex.us/ref/gages/1042227</td>\n",
       "      <td>Piscataquis River near Dover-Foxcroft, Maine</td>\n",
       "      <td>USGS NWIS Stream/River/Lake Site 01031500: Pis...</td>\n",
       "      <td>https://waterdata.usgs.gov/monitoring-location...</td>\n",
       "      <td>https://waterdata.usgs.gov</td>\n",
       "      <td>01031500</td>\n",
       "      <td>01020004000247</td>\n",
       "      <td>0.942998</td>\n",
       "      <td>1722317.0</td>\n",
       "      <td>https://geoconnex.us/ref/mainstems/2244663</td>\n",
       "    </tr>\n",
       "    <tr>\n",
       "      <th>0</th>\n",
       "      <td>POINT (-69.31472 45.17500)</td>\n",
       "      <td>67663</td>\n",
       "      <td>https://geoconnex.us/ref/gages/1042227</td>\n",
       "      <td>Piscataquis River near Dover-Foxcroft, Maine</td>\n",
       "      <td>USGS NWIS Stream/River/Lake Site 01031500: Pis...</td>\n",
       "      <td>https://waterdata.usgs.gov/monitoring-location...</td>\n",
       "      <td>https://waterdata.usgs.gov</td>\n",
       "      <td>01031500</td>\n",
       "      <td>01020004000247</td>\n",
       "      <td>0.942998</td>\n",
       "      <td>1722317.0</td>\n",
       "      <td>https://geoconnex.us/ref/mainstems/2244663</td>\n",
       "    </tr>\n",
       "  </tbody>\n",
       "</table>\n",
       "</div>"
      ],
      "text/plain": [
       "                     geometry    fid                                     uri  \\\n",
       "0  POINT (-69.45222 45.18444)  58690  https://geoconnex.us/ref/gages/1077762   \n",
       "0  POINT (-69.31472 45.17500)  67663  https://geoconnex.us/ref/gages/1042227   \n",
       "0  POINT (-69.31472 45.17500)  67663  https://geoconnex.us/ref/gages/1042227   \n",
       "\n",
       "                                           name  \\\n",
       "0      Kingsbury Stream at Abbot Village, Maine   \n",
       "0  Piscataquis River near Dover-Foxcroft, Maine   \n",
       "0  Piscataquis River near Dover-Foxcroft, Maine   \n",
       "\n",
       "                                         description  \\\n",
       "0  USGS NWIS Stream/River/Lake Site 01031450: Kin...   \n",
       "0  USGS NWIS Stream/River/Lake Site 01031500: Pis...   \n",
       "0  USGS NWIS Stream/River/Lake Site 01031500: Pis...   \n",
       "\n",
       "                                           subjectOf  \\\n",
       "0  https://waterdata.usgs.gov/monitoring-location...   \n",
       "0  https://waterdata.usgs.gov/monitoring-location...   \n",
       "0  https://waterdata.usgs.gov/monitoring-location...   \n",
       "\n",
       "                     provider provider_id nhdpv2_REACHCODE  \\\n",
       "0  https://waterdata.usgs.gov    01031450   01020004001387   \n",
       "0  https://waterdata.usgs.gov    01031500   01020004000247   \n",
       "0  https://waterdata.usgs.gov    01031500   01020004000247   \n",
       "\n",
       "   nhdpv2_REACH_measure  nhdpv2_COMID  \\\n",
       "0             54.241330     1722913.0   \n",
       "0              0.942998     1722317.0   \n",
       "0              0.942998     1722317.0   \n",
       "\n",
       "                                 mainstem_uri  \n",
       "0  https://geoconnex.us/ref/mainstems/2245317  \n",
       "0  https://geoconnex.us/ref/mainstems/2244663  \n",
       "0  https://geoconnex.us/ref/mainstems/2244663  "
      ]
     },
     "execution_count": 5,
     "metadata": {},
     "output_type": "execute_result"
    }
   ],
   "source": [
    "gcx = GeoConnex()\n",
    "gcx.item = \"gages\"  # instead we can instantiate the class like so GeoConnex(\"gages\")\n",
    "station_ids = [\"01031450\", \"01031500\", \"01031500\"]\n",
    "gages = gpd.GeoDataFrame(\n",
    "    pd.concat(gcx.query({\"provider_id\": sid}) for sid in station_ids),\n",
    "    crs=\"epsg:4326\",\n",
    ")\n",
    "gages"
   ]
  }
 ],
 "metadata": {
  "interpreter": {
   "hash": "003c82ad5971cfdf345b67bc4c483230f4144cd11e9aff06d93cf3af71d62f25"
  },
  "kernelspec": {
   "display_name": "Python 3 (ipykernel)",
   "language": "python",
   "name": "python3"
  },
  "language_info": {
   "codemirror_mode": {
    "name": "ipython",
    "version": 3
   },
   "file_extension": ".py",
   "mimetype": "text/x-python",
   "name": "python",
   "nbconvert_exporter": "python",
   "pygments_lexer": "ipython3",
   "version": "3.10.4"
  }
 },
 "nbformat": 4,
 "nbformat_minor": 4
}

{
 "cells": [
  {
   "cell_type": "markdown",
   "metadata": {
    "cell_marker": "\"\"\""
   },
   "source": [
    "# Web Services Queries"
   ]
  },
  {
   "cell_type": "code",
   "execution_count": null,
   "metadata": {
    "execution": {
     "iopub.execute_input": "2021-11-12T23:10:08.203767Z",
     "iopub.status.busy": "2021-11-12T23:10:08.203283Z",
     "iopub.status.idle": "2021-11-12T23:10:09.968515Z",
     "shell.execute_reply": "2021-11-12T23:10:09.968893Z"
    }
   },
   "outputs": [],
   "source": [
    "from __future__ import annotations\n",
    "\n",
    "import pygeoutils as geoutils\n",
    "from pygeoogc import WFS, WMS, ArcGISRESTful, ServiceURL\n",
    "from pynhd import NLDI"
   ]
  },
  {
   "cell_type": "code",
   "execution_count": null,
   "metadata": {
    "execution": {
     "iopub.execute_input": "2021-11-12T23:10:09.971954Z",
     "iopub.status.busy": "2021-11-12T23:10:09.971491Z",
     "iopub.status.idle": "2021-11-12T23:10:09.972850Z",
     "shell.execute_reply": "2021-11-12T23:10:09.973160Z"
    }
   },
   "outputs": [],
   "source": [
    "import warnings\n",
    "\n",
    "warnings.filterwarnings(\"ignore\", message=\".*Content metadata for layer.*\")"
   ]
  },
  {
   "cell_type": "markdown",
   "metadata": {},
   "source": [
    "[PyGeoOGC](https://github.com/cheginit/pygeoogc) and [PyGeoUtils](https://github.com/cheginit/pygeoutils) can be used to access any web services that are based on ArcGIS RESTful, WMS, or WFS. It is noted that although, all these web service have limits on the number of objects (e.g., 1000 objectIDs for RESTful) or pixels (e.g., 8 million pixels) per requests, PyGeoOGC takes care of dividing the requests into smaller chunks under-the-hood and then merges them.\n",
    "\n",
    "Let's get started by retrieving a watershed geometry using NLDI and use it for subsetting the data."
   ]
  },
  {
   "cell_type": "code",
   "execution_count": null,
   "metadata": {
    "execution": {
     "iopub.execute_input": "2021-11-12T23:10:09.978617Z",
     "iopub.status.busy": "2021-11-12T23:10:09.975278Z",
     "iopub.status.idle": "2021-11-12T23:10:10.023090Z",
     "shell.execute_reply": "2021-11-12T23:10:10.023414Z"
    },
    "tags": []
   },
   "outputs": [],
   "source": [
    "basin = NLDI().get_basins(\"11092450\")\n",
    "basin_geom = basin.iloc[0].geometry"
   ]
  },
  {
   "cell_type": "markdown",
   "metadata": {},
   "source": [
    "PyGeoOGC has a ``NamedTuple`` called ``ServiceURL`` that contains URLs of the some of the popular web services. Let's use it to access NHDPlus HR Dataset RESTful service and get all the catchments that our basin contain and use ``pygeoutils.json2geodf`` to convert it into a GeoDataFrame."
   ]
  },
  {
   "cell_type": "code",
   "execution_count": null,
   "metadata": {
    "execution": {
     "iopub.execute_input": "2021-11-12T23:10:10.026361Z",
     "iopub.status.busy": "2021-11-12T23:10:10.025897Z",
     "iopub.status.idle": "2021-11-12T23:10:15.500752Z",
     "shell.execute_reply": "2021-11-12T23:10:15.501065Z"
    }
   },
   "outputs": [],
   "source": [
    "hr = ArcGISRESTful(ServiceURL().restful.nhdplushr, 10, outformat=\"json\")\n",
    "oids = hr.oids_bygeom(basin_geom, \"epsg:4326\", spatial_relation=\"esriSpatialRelContains\")\n",
    "resp = hr.get_features(oids)\n",
    "catchments = geoutils.json2geodf(resp)"
   ]
  },
  {
   "cell_type": "code",
   "execution_count": null,
   "metadata": {
    "execution": {
     "iopub.execute_input": "2021-11-12T23:10:15.515963Z",
     "iopub.status.busy": "2021-11-12T23:10:15.515481Z",
     "iopub.status.idle": "2021-11-12T23:10:15.738126Z",
     "shell.execute_reply": "2021-11-12T23:10:15.738442Z"
    }
   },
   "outputs": [],
   "source": [
    "catchments.plot(figsize=(8, 8))"
   ]
  },
  {
   "cell_type": "markdown",
   "metadata": {},
   "source": [
    "Note ``oids_bygeom`` has an additional argument for passing any valid SQL WHERE clause to further filter the data on the server side. For example, let's only keep the ones with an area of larger than 0.5 sqkm."
   ]
  },
  {
   "cell_type": "code",
   "execution_count": null,
   "metadata": {
    "execution": {
     "iopub.execute_input": "2021-11-12T23:10:15.744282Z",
     "iopub.status.busy": "2021-11-12T23:10:15.743840Z",
     "iopub.status.idle": "2021-11-12T23:10:19.626058Z",
     "shell.execute_reply": "2021-11-12T23:10:19.626374Z"
    }
   },
   "outputs": [],
   "source": [
    "oids = hr.oids_bygeom(basin_geom, geo_crs=4326, sql_clause=\"AREASQKM > 0.5\")\n",
    "catchments = geoutils.json2geodf(hr.get_features(oids))"
   ]
  },
  {
   "cell_type": "code",
   "execution_count": null,
   "metadata": {
    "execution": {
     "iopub.execute_input": "2021-11-12T23:10:19.631447Z",
     "iopub.status.busy": "2021-11-12T23:10:19.630442Z",
     "iopub.status.idle": "2021-11-12T23:10:19.839729Z",
     "shell.execute_reply": "2021-11-12T23:10:19.840038Z"
    }
   },
   "outputs": [],
   "source": [
    "ax = catchments.plot(figsize=(8, 8))\n",
    "ax.figure.savefig(\"_static/sql_clause.png\", bbox_inches=\"tight\", facecolor=\"w\")"
   ]
  },
  {
   "cell_type": "markdown",
   "metadata": {},
   "source": [
    "We can also submit a query based on IDs of any valid field in the database. If the measure\n",
    "property is desired you can pass ``return_m`` as ``True`` to the ``get_features`` class method:"
   ]
  },
  {
   "cell_type": "code",
   "execution_count": null,
   "metadata": {
    "execution": {
     "iopub.execute_input": "2021-11-12T23:10:19.842963Z",
     "iopub.status.busy": "2021-11-12T23:10:19.842473Z",
     "iopub.status.idle": "2021-11-12T23:10:20.961156Z",
     "shell.execute_reply": "2021-11-12T23:10:20.961437Z"
    }
   },
   "outputs": [],
   "source": [
    "oids = hr.oids_byfield(\"NHDPlusID\", [5000500013223, 5000400039708, 5000500004825])\n",
    "resp = hr.get_features(oids, return_m=True)\n",
    "catchments = geoutils.json2geodf(resp)"
   ]
  },
  {
   "cell_type": "code",
   "execution_count": null,
   "metadata": {
    "execution": {
     "iopub.execute_input": "2021-11-12T23:10:20.975346Z",
     "iopub.status.busy": "2021-11-12T23:10:20.974897Z",
     "iopub.status.idle": "2021-11-12T23:10:21.065493Z",
     "shell.execute_reply": "2021-11-12T23:10:21.065838Z"
    }
   },
   "outputs": [],
   "source": [
    "catchments.plot(figsize=(8, 8))"
   ]
  },
  {
   "attachments": {},
   "cell_type": "markdown",
   "metadata": {},
   "source": [
    "Next, let's get DEM using the [3D Elevation Program](https://www.usgs.gov/3d-elevation-program) WMS service. First we need to connect to the service using ``WMS`` class."
   ]
  },
  {
   "cell_type": "code",
   "execution_count": null,
   "metadata": {
    "execution": {
     "iopub.execute_input": "2021-11-12T23:10:21.069224Z",
     "iopub.status.busy": "2021-11-12T23:10:21.068719Z",
     "iopub.status.idle": "2021-11-12T23:10:22.439191Z",
     "shell.execute_reply": "2021-11-12T23:10:22.439510Z"
    }
   },
   "outputs": [],
   "source": [
    "wms = WMS(\n",
    "    ServiceURL().wms.nm_3dep,\n",
    "    layers=\"3DEPElevation:None\",\n",
    "    outformat=\"image/tiff\",\n",
    "    crs=5070,\n",
    ")"
   ]
  },
  {
   "cell_type": "markdown",
   "metadata": {},
   "source": [
    "Then we can get the data using the ``getmap_bybox`` function. Note that this function only accepts a bounding box, so we need to pass a bounding box and mask the returned data later on using ``pygeoutils.gtiff2xarray`` function."
   ]
  },
  {
   "cell_type": "code",
   "execution_count": null,
   "metadata": {
    "execution": {
     "iopub.execute_input": "2021-11-12T23:10:22.450114Z",
     "iopub.status.busy": "2021-11-12T23:10:22.449654Z",
     "iopub.status.idle": "2021-11-12T23:10:24.556394Z",
     "shell.execute_reply": "2021-11-12T23:10:24.556717Z"
    }
   },
   "outputs": [],
   "source": [
    "bbox = basin_geom.bounds\n",
    "r_dict = wms.getmap_bybox(\n",
    "    bbox,\n",
    "    100,\n",
    "    box_crs=4326,\n",
    ")\n",
    "dem = geoutils.gtiff2xarray(r_dict, bbox, 4326)"
   ]
  },
  {
   "cell_type": "code",
   "execution_count": null,
   "metadata": {
    "execution": {
     "iopub.execute_input": "2021-11-12T23:10:24.560981Z",
     "iopub.status.busy": "2021-11-12T23:10:24.560532Z",
     "iopub.status.idle": "2021-11-12T23:10:24.996802Z",
     "shell.execute_reply": "2021-11-12T23:10:24.997110Z"
    }
   },
   "outputs": [],
   "source": [
    "dem.plot()"
   ]
  },
  {
   "cell_type": "markdown",
   "metadata": {},
   "source": [
    "Next, let's use WaterData service to get HUC8 using `WFS` and CQL filter."
   ]
  },
  {
   "cell_type": "code",
   "execution_count": null,
   "metadata": {
    "execution": {
     "iopub.execute_input": "2021-11-12T23:10:25.000060Z",
     "iopub.status.busy": "2021-11-12T23:10:24.999620Z",
     "iopub.status.idle": "2021-11-12T23:10:29.631382Z",
     "shell.execute_reply": "2021-11-12T23:10:29.631703Z"
    }
   },
   "outputs": [],
   "source": [
    "layer = \"wmadata:huc08\"\n",
    "wfs = WFS(\n",
    "    ServiceURL().wfs.waterdata,\n",
    "    layer=layer,\n",
    "    outformat=\"application/json\",\n",
    "    version=\"2.0.0\",\n",
    "    crs=4269,\n",
    ")\n",
    "resp = wfs.getfeature_byfilter(\"huc8 LIKE '13030%'\")\n",
    "huc8 = geoutils.json2geodf(resp, 4269, 4326)"
   ]
  },
  {
   "cell_type": "code",
   "execution_count": null,
   "metadata": {
    "execution": {
     "iopub.execute_input": "2021-11-12T23:10:29.646610Z",
     "iopub.status.busy": "2021-11-12T23:10:29.636322Z",
     "iopub.status.idle": "2021-11-12T23:10:29.725006Z",
     "shell.execute_reply": "2021-11-12T23:10:29.725318Z"
    },
    "tags": []
   },
   "outputs": [],
   "source": [
    "huc8.plot(figsize=(8, 8))"
   ]
  }
 ],
 "metadata": {
  "kernelspec": {
   "display_name": "Python 3.10.5 ('hyriver-dev')",
   "language": "python",
   "name": "python3"
  },
  "language_info": {
   "codemirror_mode": {
    "name": "ipython",
    "version": 3
   },
   "file_extension": ".py",
   "mimetype": "text/x-python",
   "name": "python",
   "nbconvert_exporter": "python",
   "pygments_lexer": "ipython3",
   "version": "3.11.5"
  },
  "vscode": {
   "interpreter": {
    "hash": "003c82ad5971cfdf345b67bc4c483230f4144cd11e9aff06d93cf3af71d62f25"
   }
  }
 },
 "nbformat": 4,
 "nbformat_minor": 4
}
